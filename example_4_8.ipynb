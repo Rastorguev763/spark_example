{
 "cells": [
  {
   "cell_type": "markdown",
   "metadata": {},
   "source": [
    "# Задание 1"
   ]
  },
  {
   "cell_type": "code",
   "execution_count": 21,
   "metadata": {},
   "outputs": [
    {
     "name": "stdout",
     "output_type": "stream",
     "text": [
      "root\n",
      " |-- id: integer (nullable = true)\n",
      " |-- timestamp: integer (nullable = true)\n",
      "\n"
     ]
    }
   ],
   "source": [
    "from pyspark.sql import SparkSession\n",
    "from pyspark.sql import functions as F\n",
    "from pyspark.sql.window import Window\n",
    "\n",
    "# Создаем сессию Spark\n",
    "spark = SparkSession.builder.appName(\"SessionLength\").getOrCreate()\n",
    "\n",
    "df = spark.read.csv('data.csv', header=True, inferSchema=True)\n",
    "df.printSchema()"
   ]
  },
  {
   "cell_type": "code",
   "execution_count": 22,
   "metadata": {},
   "outputs": [
    {
     "name": "stdout",
     "output_type": "stream",
     "text": [
      "+---+----------+\n",
      "| id| timestamp|\n",
      "+---+----------+\n",
      "|  1|1562007679|\n",
      "|  1|1562007710|\n",
      "|  1|1562007720|\n",
      "|  1|1562007750|\n",
      "|  2|1564682430|\n",
      "|  2|1564682450|\n",
      "|  2|1564682480|\n",
      "+---+----------+\n",
      "\n"
     ]
    }
   ],
   "source": [
    "df.show()"
   ]
  },
  {
   "cell_type": "code",
   "execution_count": 23,
   "metadata": {},
   "outputs": [
    {
     "name": "stdout",
     "output_type": "stream",
     "text": [
      "+---+------------------+\n",
      "| id|avg_session_length|\n",
      "+---+------------------+\n",
      "|  1|             35.75|\n",
      "|  2|23.333333333333332|\n",
      "+---+------------------+\n",
      "\n"
     ]
    }
   ],
   "source": [
    "# Добавляем столбец с датой\n",
    "df_with_date = df.withColumn(\"date\", F.to_date(F.from_unixtime(\"timestamp\")))\n",
    "\n",
    "# Определяем окно для каждого пользователя\n",
    "window_spec = Window().partitionBy(\"id\", \"date\").orderBy(\"timestamp\")\n",
    "\n",
    "# Добавляем столбец с разницей между первым и последним действием\n",
    "df_with_duration = df_with_date.withColumn(\"session_duration\", F.last(\"timestamp\").over(window_spec) - F.first(\"timestamp\").over(window_spec))\n",
    "\n",
    "# Группируем по id и рассчитываем усредненную длину сессии\n",
    "result = df_with_duration.groupBy(\"id\").agg(F.avg(\"session_duration\").alias(\"avg_session_length\"))\n",
    "\n",
    "# Показываем результат\n",
    "try:\n",
    "    result.show()\n",
    "except Exception as e:\n",
    "    print(e)\n",
    "    import traceback\n",
    "    traceback.print_exc()\n"
   ]
  },
  {
   "cell_type": "markdown",
   "metadata": {},
   "source": [
    "# Задание 2"
   ]
  },
  {
   "cell_type": "code",
   "execution_count": 24,
   "metadata": {},
   "outputs": [],
   "source": [
    "from pyspark.sql import SparkSession\n",
    "from pyspark.sql import functions as F\n",
    "from pyspark.sql.window import Window\n",
    "\n",
    "# Создаем Spark Session\n",
    "spark = SparkSession.builder.appName(\"AppName\").getOrCreate()\n",
    "\n",
    "# Загружаем данные о среднедневном спросе\n",
    "df_dem = spark.read.csv(\"data_2.csv\", header=True, inferSchema=True)\n",
    "\n",
    "# Загружаем данные о запасах\n",
    "df_stk = spark.read.csv(\"data_2_1.csv\", header=True, inferSchema=True)\n",
    "\n",
    "# calendar_df = spark.read.csv(\"data_2_2.csv\", header=True, inferSchema=True)\n",
    "\n",
    "# Объединяем данные с помощью join\n",
    "df = df_dem.join(df_stk, [\"product\", \"location\"]).select(\n",
    "    df_dem[\"product\"].alias(\"prod\"),\n",
    "    df_dem[\"location\"].alias(\"loc\"),\n",
    "    df_dem[\"demand\"],\n",
    "    df_stk[\"stock\"]\n",
    ")\n"
   ]
  },
  {
   "cell_type": "code",
   "execution_count": 25,
   "metadata": {},
   "outputs": [
    {
     "name": "stdout",
     "output_type": "stream",
     "text": [
      "Продолжительность технических недель: [6, 7, 7, 7, 4]\n",
      "Таблица по техническим неделям:\n",
      "+----+---+-------+-------+-------+-------+-------+------+-------+-------+-------+-------+-------+\n",
      "|prod|loc|wk1-dem|wk2-dem|wk3-dem|wk4-dem|wk5-dem|op-stk|wk1-stk|wk2-stk|wk3-stk|wk4-stk|wk5-stk|\n",
      "+----+---+-------+-------+-------+-------+-------+------+-------+-------+-------+-------+-------+\n",
      "|   1|  1|    600|    700|    700|    700|    400|  1000|    400|   -300|  -1000|  -1700|  -2100|\n",
      "|   1|  2|    660|    770|    770|    770|    440|   400|   -260|  -1030|  -1800|  -2570|  -3010|\n",
      "|   2|  1|    720|    840|    840|    840|    480|   300|   -420|  -1260|  -2100|  -2940|  -3420|\n",
      "|   2|  2|    540|    630|    630|    630|    360|   250|   -290|   -920|  -1550|  -2180|  -2540|\n",
      "+----+---+-------+-------+-------+-------+-------+------+-------+-------+-------+-------+-------+\n",
      "\n"
     ]
    }
   ],
   "source": [
    "\n",
    "# Рассчитываем количество дней в технических неделях\n",
    "import calendar\n",
    "from itertools import accumulate\n",
    "\n",
    "\n",
    "inp_year = 2023  # Замените на ваш год\n",
    "inp_month = 8    # Замените на ваш месяц\n",
    "d_1, d_tot = calendar.monthrange(inp_year, inp_month)\n",
    "week_len = [7 - d_1] + [7]*((d_1 + d_tot - 7)//7) + [(d_1 + d_tot) % 7]\n",
    "if week_len[-1] == 0: del week_len[-1]\n",
    "week_len_run = [0] + list(accumulate(week_len))  # нарастающий итог\n",
    "print(\"Продолжительность технических недель:\", week_len)\n",
    "\n",
    "# Добавляем столбцы\n",
    "def add_l(pf, n): return \"wk\" + str(n) + pf\n",
    "new_cols_dict = dict(zip(\n",
    "    [ add_l(\"-dem\", n) for n in range(1, len(week_len) + 1) ] +              # заголовки - спрос\n",
    "    [\"op-stk\"] + [ add_l(\"-stk\", n) for n in range(1, len(week_len) + 1) ],  # заголовки - запас\n",
    "    [ df['demand'] * wl for wl in week_len ] +                             # значения - спрос\n",
    "    [ df['stock'] - df['demand'] * wlr for wlr in week_len_run ]           # значения - запас\n",
    "))\n",
    "\n",
    "df = df.withColumns(new_cols_dict).drop(\"demand\", \"stock\")\n",
    "print(\"Таблица по техническим неделям:\")\n",
    "df.show()\n"
   ]
  }
 ],
 "metadata": {
  "kernelspec": {
   "display_name": "Python 3",
   "language": "python",
   "name": "python3"
  },
  "language_info": {
   "codemirror_mode": {
    "name": "ipython",
    "version": 3
   },
   "file_extension": ".py",
   "mimetype": "text/x-python",
   "name": "python",
   "nbconvert_exporter": "python",
   "pygments_lexer": "ipython3",
   "version": "3.10.9"
  }
 },
 "nbformat": 4,
 "nbformat_minor": 2
}
